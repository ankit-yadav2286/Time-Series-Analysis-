{
 "cells": [
  {
   "cell_type": "markdown",
   "id": "3dfc28de",
   "metadata": {},
   "source": [
    "## Importing necessary Libraries"
   ]
  },
  {
   "cell_type": "code",
   "execution_count": 28,
   "id": "ea18bd0d",
   "metadata": {},
   "outputs": [],
   "source": [
    "import pandas as pd \n",
    "import numpy as np\n",
    "import matplotlib.pyplot as plt\n",
    "import seaborn as sns\n",
    "import warnings\n",
    "from statsmodels.tsa.stattools import adfuller\n",
    "from statsmodels.graphics.tsaplots import plot_acf,plot_pacf\n",
    "from statsmodels.tsa.arima.model import ARIMA\n",
    "from statsmodels.tsa.statespace.sarimax import SARIMAX\n",
    "%matplotlib inline"
   ]
  },
  {
   "cell_type": "code",
   "execution_count": 2,
   "id": "a404c9d1",
   "metadata": {},
   "outputs": [],
   "source": [
    "df = pd.read_csv(\"Time Series Data_1.csv\",encoding=\"unicode_escape\")"
   ]
  },
  {
   "cell_type": "code",
   "execution_count": 3,
   "id": "1ba5f90f",
   "metadata": {},
   "outputs": [
    {
     "data": {
      "text/html": [
       "<div>\n",
       "<style scoped>\n",
       "    .dataframe tbody tr th:only-of-type {\n",
       "        vertical-align: middle;\n",
       "    }\n",
       "\n",
       "    .dataframe tbody tr th {\n",
       "        vertical-align: top;\n",
       "    }\n",
       "\n",
       "    .dataframe thead th {\n",
       "        text-align: right;\n",
       "    }\n",
       "</style>\n",
       "<table border=\"1\" class=\"dataframe\">\n",
       "  <thead>\n",
       "    <tr style=\"text-align: right;\">\n",
       "      <th></th>\n",
       "      <th>Month</th>\n",
       "      <th>Perrin Freres monthly champagne sales millions ?64-?72</th>\n",
       "    </tr>\n",
       "  </thead>\n",
       "  <tbody>\n",
       "    <tr>\n",
       "      <th>0</th>\n",
       "      <td>1964-01</td>\n",
       "      <td>2815</td>\n",
       "    </tr>\n",
       "    <tr>\n",
       "      <th>1</th>\n",
       "      <td>1964-02</td>\n",
       "      <td>2672</td>\n",
       "    </tr>\n",
       "    <tr>\n",
       "      <th>2</th>\n",
       "      <td>1964-03</td>\n",
       "      <td>2755</td>\n",
       "    </tr>\n",
       "    <tr>\n",
       "      <th>3</th>\n",
       "      <td>1964-04</td>\n",
       "      <td>2721</td>\n",
       "    </tr>\n",
       "    <tr>\n",
       "      <th>4</th>\n",
       "      <td>1964-05</td>\n",
       "      <td>2946</td>\n",
       "    </tr>\n",
       "  </tbody>\n",
       "</table>\n",
       "</div>"
      ],
      "text/plain": [
       "     Month  Perrin Freres monthly champagne sales millions ?64-?72\n",
       "0  1964-01                                               2815     \n",
       "1  1964-02                                               2672     \n",
       "2  1964-03                                               2755     \n",
       "3  1964-04                                               2721     \n",
       "4  1964-05                                               2946     "
      ]
     },
     "execution_count": 3,
     "metadata": {},
     "output_type": "execute_result"
    }
   ],
   "source": [
    "df.head()"
   ]
  },
  {
   "cell_type": "code",
   "execution_count": 4,
   "id": "5eee7d9c",
   "metadata": {},
   "outputs": [],
   "source": [
    "df.columns = [\"Month\",\"Sales\"]"
   ]
  },
  {
   "cell_type": "code",
   "execution_count": 5,
   "id": "2226a281",
   "metadata": {},
   "outputs": [
    {
     "data": {
      "text/plain": [
       "(105, 2)"
      ]
     },
     "execution_count": 5,
     "metadata": {},
     "output_type": "execute_result"
    }
   ],
   "source": [
    "df.shape"
   ]
  },
  {
   "cell_type": "code",
   "execution_count": 6,
   "id": "8e11476f",
   "metadata": {},
   "outputs": [],
   "source": [
    "df[\"Month\"] = pd.to_datetime(df[\"Month\"])"
   ]
  },
  {
   "cell_type": "code",
   "execution_count": 7,
   "id": "3ac62d53",
   "metadata": {},
   "outputs": [
    {
     "data": {
      "text/plain": [
       "Month    datetime64[ns]\n",
       "Sales             int64\n",
       "dtype: object"
      ]
     },
     "execution_count": 7,
     "metadata": {},
     "output_type": "execute_result"
    }
   ],
   "source": [
    "df.dtypes"
   ]
  },
  {
   "cell_type": "code",
   "execution_count": 8,
   "id": "1bcca341",
   "metadata": {},
   "outputs": [],
   "source": [
    "df.set_index(\"Month\",inplace = True)"
   ]
  },
  {
   "cell_type": "code",
   "execution_count": 9,
   "id": "b5b26817",
   "metadata": {},
   "outputs": [
    {
     "data": {
      "text/html": [
       "<div>\n",
       "<style scoped>\n",
       "    .dataframe tbody tr th:only-of-type {\n",
       "        vertical-align: middle;\n",
       "    }\n",
       "\n",
       "    .dataframe tbody tr th {\n",
       "        vertical-align: top;\n",
       "    }\n",
       "\n",
       "    .dataframe thead th {\n",
       "        text-align: right;\n",
       "    }\n",
       "</style>\n",
       "<table border=\"1\" class=\"dataframe\">\n",
       "  <thead>\n",
       "    <tr style=\"text-align: right;\">\n",
       "      <th></th>\n",
       "      <th>Sales</th>\n",
       "    </tr>\n",
       "    <tr>\n",
       "      <th>Month</th>\n",
       "      <th></th>\n",
       "    </tr>\n",
       "  </thead>\n",
       "  <tbody>\n",
       "    <tr>\n",
       "      <th>1964-01-01</th>\n",
       "      <td>2815</td>\n",
       "    </tr>\n",
       "    <tr>\n",
       "      <th>1964-02-01</th>\n",
       "      <td>2672</td>\n",
       "    </tr>\n",
       "    <tr>\n",
       "      <th>1964-03-01</th>\n",
       "      <td>2755</td>\n",
       "    </tr>\n",
       "    <tr>\n",
       "      <th>1964-04-01</th>\n",
       "      <td>2721</td>\n",
       "    </tr>\n",
       "    <tr>\n",
       "      <th>1964-05-01</th>\n",
       "      <td>2946</td>\n",
       "    </tr>\n",
       "  </tbody>\n",
       "</table>\n",
       "</div>"
      ],
      "text/plain": [
       "            Sales\n",
       "Month            \n",
       "1964-01-01   2815\n",
       "1964-02-01   2672\n",
       "1964-03-01   2755\n",
       "1964-04-01   2721\n",
       "1964-05-01   2946"
      ]
     },
     "execution_count": 9,
     "metadata": {},
     "output_type": "execute_result"
    }
   ],
   "source": [
    "df.head()"
   ]
  },
  {
   "cell_type": "code",
   "execution_count": 10,
   "id": "fb74ea30",
   "metadata": {},
   "outputs": [
    {
     "data": {
      "text/plain": [
       "<AxesSubplot:xlabel='Month'>"
      ]
     },
     "execution_count": 10,
     "metadata": {},
     "output_type": "execute_result"
    },
    {
     "data": {
      "image/png": "[encoded data removed]",
      "text/plain": [
       "<Figure size 432x288 with 1 Axes>"
      ]
     },
     "metadata": {
      "needs_background": "light"
     },
     "output_type": "display_data"
    }
   ],
   "source": [
    "df.plot()"
   ]
  },
  {
   "cell_type": "markdown",
   "id": "c51724c1",
   "metadata": {},
   "source": [
    "##  Points of analysis(POA)\n",
    "\n",
    "1. Time Series is not Stationary\n",
    "2. We Observe seasonality twice\n",
    "* It falls in the mid of the year.\n",
    "* Rises in the mid of the year.\n",
    "\n",
    "3. we see that there is autocorelation in the data.\n",
    " "
   ]
  },
  {
   "cell_type": "code",
   "execution_count": 11,
   "id": "0f7cff17",
   "metadata": {},
   "outputs": [],
   "source": [
    "# To find and validate if the data is not stationary by running AD Fuller Test\n",
    "\n",
    "ad1 = adfuller(df[\"Sales\"])\n"
   ]
  },
  {
   "cell_type": "code",
   "execution_count": 12,
   "id": "8edb4198",
   "metadata": {},
   "outputs": [
    {
     "data": {
      "text/plain": [
       "(-1.8335930563276248,\n",
       " 0.363915771660244,\n",
       " 11,\n",
       " 93,\n",
       " {'1%': -3.502704609582561,\n",
       "  '5%': -2.8931578098779522,\n",
       "  '10%': -2.583636712914788},\n",
       " 1478.4633060594724)"
      ]
     },
     "execution_count": 12,
     "metadata": {},
     "output_type": "execute_result"
    }
   ],
   "source": [
    "ad1"
   ]
  },
  {
   "cell_type": "markdown",
   "id": "67a849a2",
   "metadata": {},
   "source": [
    "We only take into account first 4 values\n",
    "- 1st value is ADF test statistics\n",
    "- 2nd value is p value\n",
    "- 3rd value is number of lags/seasonality\n",
    "- 4th value is number of records without lags"
   ]
  },
  {
   "cell_type": "markdown",
   "id": "3c6d5f82",
   "metadata": {},
   "source": [
    "We dont rely on first value i.e ADF test statistics because we have some mathematical formula for this\n",
    "- we only take into account 2nd ,3rd and 4th value"
   ]
  },
  {
   "cell_type": "markdown",
   "id": "935fe089",
   "metadata": {},
   "source": [
    "## Hypothesis of AD Fuller Test"
   ]
  },
  {
   "cell_type": "markdown",
   "id": "98b73828",
   "metadata": {},
   "source": [
    "- Null Hypothesis  : Data is non-stationary\n",
    "- Alternate Hypothesis  : Data is stationary\n",
    "- In above test run we can see that p-value is greater than 0.05 so we fail to reject null hypothesis i;e Data is Non-stationary \n",
    "- In order to make data stationary we are taking first order difference"
   ]
  },
  {
   "cell_type": "code",
   "execution_count": 15,
   "id": "e7878d14",
   "metadata": {},
   "outputs": [],
   "source": [
    "df[\"first_difference\"] = df[\"Sales\"].shift(1) - df[\"Sales\"]"
   ]
  },
  {
   "cell_type": "code",
   "execution_count": 17,
   "id": "be74c7a6",
   "metadata": {},
   "outputs": [
    {
     "data": {
      "text/html": [
       "<div>\n",
       "<style scoped>\n",
       "    .dataframe tbody tr th:only-of-type {\n",
       "        vertical-align: middle;\n",
       "    }\n",
       "\n",
       "    .dataframe tbody tr th {\n",
       "        vertical-align: top;\n",
       "    }\n",
       "\n",
       "    .dataframe thead th {\n",
       "        text-align: right;\n",
       "    }\n",
       "</style>\n",
       "<table border=\"1\" class=\"dataframe\">\n",
       "  <thead>\n",
       "    <tr style=\"text-align: right;\">\n",
       "      <th></th>\n",
       "      <th>Sales</th>\n",
       "      <th>first_difference</th>\n",
       "    </tr>\n",
       "    <tr>\n",
       "      <th>Month</th>\n",
       "      <th></th>\n",
       "      <th></th>\n",
       "    </tr>\n",
       "  </thead>\n",
       "  <tbody>\n",
       "    <tr>\n",
       "      <th>1964-01-01</th>\n",
       "      <td>2815</td>\n",
       "      <td>NaN</td>\n",
       "    </tr>\n",
       "    <tr>\n",
       "      <th>1964-02-01</th>\n",
       "      <td>2672</td>\n",
       "      <td>143.0</td>\n",
       "    </tr>\n",
       "    <tr>\n",
       "      <th>1964-03-01</th>\n",
       "      <td>2755</td>\n",
       "      <td>-83.0</td>\n",
       "    </tr>\n",
       "    <tr>\n",
       "      <th>1964-04-01</th>\n",
       "      <td>2721</td>\n",
       "      <td>34.0</td>\n",
       "    </tr>\n",
       "    <tr>\n",
       "      <th>1964-05-01</th>\n",
       "      <td>2946</td>\n",
       "      <td>-225.0</td>\n",
       "    </tr>\n",
       "    <tr>\n",
       "      <th>1964-06-01</th>\n",
       "      <td>3036</td>\n",
       "      <td>-90.0</td>\n",
       "    </tr>\n",
       "    <tr>\n",
       "      <th>1964-07-01</th>\n",
       "      <td>2282</td>\n",
       "      <td>754.0</td>\n",
       "    </tr>\n",
       "    <tr>\n",
       "      <th>1964-08-01</th>\n",
       "      <td>2212</td>\n",
       "      <td>70.0</td>\n",
       "    </tr>\n",
       "    <tr>\n",
       "      <th>1964-09-01</th>\n",
       "      <td>2922</td>\n",
       "      <td>-710.0</td>\n",
       "    </tr>\n",
       "    <tr>\n",
       "      <th>1964-10-01</th>\n",
       "      <td>4301</td>\n",
       "      <td>-1379.0</td>\n",
       "    </tr>\n",
       "  </tbody>\n",
       "</table>\n",
       "</div>"
      ],
      "text/plain": [
       "            Sales  first_difference\n",
       "Month                              \n",
       "1964-01-01   2815               NaN\n",
       "1964-02-01   2672             143.0\n",
       "1964-03-01   2755             -83.0\n",
       "1964-04-01   2721              34.0\n",
       "1964-05-01   2946            -225.0\n",
       "1964-06-01   3036             -90.0\n",
       "1964-07-01   2282             754.0\n",
       "1964-08-01   2212              70.0\n",
       "1964-09-01   2922            -710.0\n",
       "1964-10-01   4301           -1379.0"
      ]
     },
     "execution_count": 17,
     "metadata": {},
     "output_type": "execute_result"
    }
   ],
   "source": [
    "df.head(10)"
   ]
  },
  {
   "cell_type": "code",
   "execution_count": 19,
   "id": "f8360bca",
   "metadata": {},
   "outputs": [
    {
     "data": {
      "text/plain": [
       "<AxesSubplot:xlabel='Month'>"
      ]
     },
     "execution_count": 19,
     "metadata": {},
     "output_type": "execute_result"
    },
    {
     "data": {
      "image/png": "[encoded data removed]",
      "text/plain": [
       "<Figure size 432x288 with 1 Axes>"
      ]
     },
     "metadata": {
      "needs_background": "light"
     },
     "output_type": "display_data"
    }
   ],
   "source": [
    "df[\"first_difference\"].plot()"
   ]
  },
  {
   "cell_type": "code",
   "execution_count": 20,
   "id": "025e5c00",
   "metadata": {},
   "outputs": [],
   "source": [
    "ad2 = adfuller(df[\"first_difference\"].dropna())"
   ]
  },
  {
   "cell_type": "code",
   "execution_count": 21,
   "id": "098d95ca",
   "metadata": {},
   "outputs": [
    {
     "data": {
      "text/plain": [
       "(-7.189896448051015,\n",
       " 2.5196204473868427e-10,\n",
       " 11,\n",
       " 92,\n",
       " {'1%': -3.503514579651927,\n",
       "  '5%': -2.893507960466837,\n",
       "  '10%': -2.583823615311909},\n",
       " 1466.8267262915892)"
      ]
     },
     "execution_count": 21,
     "metadata": {},
     "output_type": "execute_result"
    }
   ],
   "source": [
    "ad2"
   ]
  },
  {
   "cell_type": "markdown",
   "id": "5f55053b",
   "metadata": {},
   "source": [
    "p-value is less than 0.05 hence we are accepting alternate hypothesis"
   ]
  },
  {
   "cell_type": "markdown",
   "id": "707dbb90",
   "metadata": {},
   "source": [
    "Estimation of the p,d,q of the arima model\n",
    "- p stands for order of the AR model (Eg:AR1,AR2 etc.)\n",
    "- q stands for order of the MA model(Eg:MA1,MA2 etc.)\n",
    "- d stands for order of difference eg:1st order,2nd order etc."
   ]
  },
  {
   "cell_type": "markdown",
   "id": "5e3209d3",
   "metadata": {},
   "source": [
    "In order to find the above values we use ACF,PACF "
   ]
  },
  {
   "cell_type": "code",
   "execution_count": 23,
   "id": "4f564b83",
   "metadata": {},
   "outputs": [
    {
     "data": {
      "image/png": "[encoded data removed]",
      "text/plain": [
       "<Figure size 432x288 with 1 Axes>"
      ]
     },
     "execution_count": 23,
     "metadata": {},
     "output_type": "execute_result"
    },
    {
     "data": {
      "image/png": "[encoded data removed]",
      "text/plain": [
       "<Figure size 432x288 with 1 Axes>"
      ]
     },
     "metadata": {
      "needs_background": "light"
     },
     "output_type": "display_data"
    }
   ],
   "source": [
    "plot_acf(df[\"first_difference\"].dropna())"
   ]
  },
  {
   "cell_type": "markdown",
   "id": "cbfbcd4b",
   "metadata": {},
   "source": [
    "we consider acf_plot as the best identification method to find out the q value "
   ]
  },
  {
   "cell_type": "code",
   "execution_count": 25,
   "id": "ccbcff61",
   "metadata": {},
   "outputs": [
    {
     "data": {
      "image/png": "[encoded data removed]",
      "text/plain": [
       "<Figure size 432x288 with 1 Axes>"
      ]
     },
     "execution_count": 25,
     "metadata": {},
     "output_type": "execute_result"
    },
    {
     "data": {
      "image/png": "[encoded data removed]",
      "text/plain": [
       "<Figure size 432x288 with 1 Axes>"
      ]
     },
     "metadata": {
      "needs_background": "light"
     },
     "output_type": "display_data"
    }
   ],
   "source": [
    "plot_pacf(df[\"first_difference\"].dropna(),method=\"ywm\")"
   ]
  },
  {
   "cell_type": "markdown",
   "id": "b7352135",
   "metadata": {},
   "source": [
    "we consider pacf_plot as the best identification method to find out the p value"
   ]
  },
  {
   "cell_type": "markdown",
   "id": "d9a7c745",
   "metadata": {},
   "source": [
    "# Fitting the Model"
   ]
  },
  {
   "cell_type": "code",
   "execution_count": 31,
   "id": "01e3b842",
   "metadata": {},
   "outputs": [
    {
     "name": "stderr",
     "output_type": "stream",
     "text": [
      "C:\\Users\\ankit\\anaconda3\\lib\\site-packages\\statsmodels\\tsa\\base\\tsa_model.py:471: ValueWarning: No frequency information was provided, so inferred frequency MS will be used.\n",
      "  self._init_dates(dates, freq)\n",
      "C:\\Users\\ankit\\anaconda3\\lib\\site-packages\\statsmodels\\tsa\\base\\tsa_model.py:471: ValueWarning: No frequency information was provided, so inferred frequency MS will be used.\n",
      "  self._init_dates(dates, freq)\n",
      "C:\\Users\\ankit\\anaconda3\\lib\\site-packages\\statsmodels\\tsa\\base\\tsa_model.py:471: ValueWarning: No frequency information was provided, so inferred frequency MS will be used.\n",
      "  self._init_dates(dates, freq)\n"
     ]
    }
   ],
   "source": [
    "arima = ARIMA(df[\"Sales\"],order=(1,1,1))"
   ]
  },
  {
   "cell_type": "code",
   "execution_count": 33,
   "id": "1d47bd64",
   "metadata": {},
   "outputs": [],
   "source": [
    "arima = arima.fit()"
   ]
  },
  {
   "cell_type": "code",
   "execution_count": 34,
   "id": "585d9b5f",
   "metadata": {},
   "outputs": [],
   "source": [
    "df[\"forecast\"] = arima.predict(start=95,end=120,dynamic=True)"
   ]
  },
  {
   "cell_type": "code",
   "execution_count": 35,
   "id": "7c8ec669",
   "metadata": {},
   "outputs": [
    {
     "data": {
      "text/plain": [
       "<AxesSubplot:xlabel='Month'>"
      ]
     },
     "execution_count": 35,
     "metadata": {},
     "output_type": "execute_result"
    },
    {
     "data": {
      "image/png": "[encoded data removed]",
      "text/plain": [
       "<Figure size 432x288 with 1 Axes>"
      ]
     },
     "metadata": {
      "needs_background": "light"
     },
     "output_type": "display_data"
    }
   ],
   "source": [
    "df[[\"Sales\",\"forecast\"]].plot()"
   ]
  },
  {
   "cell_type": "markdown",
   "id": "9bf13038",
   "metadata": {},
   "source": [
    "As this model is not taking seasonality into consideration so we take into account sarimax model"
   ]
  },
  {
   "cell_type": "code",
   "execution_count": 39,
   "id": "d2fec8d4",
   "metadata": {},
   "outputs": [
    {
     "name": "stderr",
     "output_type": "stream",
     "text": [
      "C:\\Users\\ankit\\anaconda3\\lib\\site-packages\\statsmodels\\tsa\\base\\tsa_model.py:471: ValueWarning: No frequency information was provided, so inferred frequency MS will be used.\n",
      "  self._init_dates(dates, freq)\n",
      "C:\\Users\\ankit\\anaconda3\\lib\\site-packages\\statsmodels\\tsa\\base\\tsa_model.py:471: ValueWarning: No frequency information was provided, so inferred frequency MS will be used.\n",
      "  self._init_dates(dates, freq)\n"
     ]
    }
   ],
   "source": [
    "sarima = SARIMAX(df[\"Sales\"],order=(1,1,1),seasonal_order=(1,1,1,12))"
   ]
  },
  {
   "cell_type": "code",
   "execution_count": 40,
   "id": "4f665a60",
   "metadata": {},
   "outputs": [],
   "source": [
    "sarima = sarima.fit()"
   ]
  },
  {
   "cell_type": "code",
   "execution_count": 48,
   "id": "07885afb",
   "metadata": {},
   "outputs": [],
   "source": [
    "df[\"seasonal_forecast\"] = sarima.predict(start=95,end=120,dynamic=True)"
   ]
  },
  {
   "cell_type": "code",
   "execution_count": 49,
   "id": "84c7dbad",
   "metadata": {},
   "outputs": [
    {
     "data": {
      "text/plain": [
       "<AxesSubplot:xlabel='Month'>"
      ]
     },
     "execution_count": 49,
     "metadata": {},
     "output_type": "execute_result"
    },
    {
     "data": {
      "image/png": "[encoded data removed]",
      "text/plain": [
       "<Figure size 432x288 with 1 Axes>"
      ]
     },
     "metadata": {
      "needs_background": "light"
     },
     "output_type": "display_data"
    }
   ],
   "source": [
    "df[[\"Sales\",\"seasonal_forecast\"]].plot()"
   ]
  },
  {
   "cell_type": "markdown",
   "id": "65585c60",
   "metadata": {},
   "source": [
    "# Future Predictions"
   ]
  },
  {
   "cell_type": "code",
   "execution_count": 51,
   "id": "3c194eee",
   "metadata": {},
   "outputs": [
    {
     "data": {
      "text/plain": [
       "Timestamp('1972-01-01 00:00:00')"
      ]
     },
     "execution_count": 51,
     "metadata": {},
     "output_type": "execute_result"
    }
   ],
   "source": [
    "df.index[-9]"
   ]
  },
  {
   "cell_type": "code",
   "execution_count": 52,
   "id": "7dcfa1c3",
   "metadata": {},
   "outputs": [],
   "source": [
    "future_days =[df.index[-9]+pd.tseries.offsets.DateOffset(month=x) for x in range(13)]"
   ]
  },
  {
   "cell_type": "code",
   "execution_count": 53,
   "id": "ece85233",
   "metadata": {},
   "outputs": [
    {
     "data": {
      "text/plain": [
       "[Timestamp('1972-10-01 00:00:00'),\n",
       " Timestamp('1972-11-01 00:00:00'),\n",
       " Timestamp('1972-12-01 00:00:00')]"
      ]
     },
     "execution_count": 53,
     "metadata": {},
     "output_type": "execute_result"
    }
   ],
   "source": [
    "future_days[10:]"
   ]
  },
  {
   "cell_type": "code",
   "execution_count": 55,
   "id": "1ec2f783",
   "metadata": {},
   "outputs": [],
   "source": [
    "new_df = pd.DataFrame(index=future_days[10:],columns=df.columns)"
   ]
  },
  {
   "cell_type": "code",
   "execution_count": 56,
   "id": "0344aaf8",
   "metadata": {},
   "outputs": [
    {
     "data": {
      "text/html": [
       "<div>\n",
       "<style scoped>\n",
       "    .dataframe tbody tr th:only-of-type {\n",
       "        vertical-align: middle;\n",
       "    }\n",
       "\n",
       "    .dataframe tbody tr th {\n",
       "        vertical-align: top;\n",
       "    }\n",
       "\n",
       "    .dataframe thead th {\n",
       "        text-align: right;\n",
       "    }\n",
       "</style>\n",
       "<table border=\"1\" class=\"dataframe\">\n",
       "  <thead>\n",
       "    <tr style=\"text-align: right;\">\n",
       "      <th></th>\n",
       "      <th>Sales</th>\n",
       "      <th>first_difference</th>\n",
       "      <th>forecast</th>\n",
       "      <th>seasonal_forecast</th>\n",
       "    </tr>\n",
       "  </thead>\n",
       "  <tbody>\n",
       "    <tr>\n",
       "      <th>1972-10-01</th>\n",
       "      <td>NaN</td>\n",
       "      <td>NaN</td>\n",
       "      <td>NaN</td>\n",
       "      <td>NaN</td>\n",
       "    </tr>\n",
       "    <tr>\n",
       "      <th>1972-11-01</th>\n",
       "      <td>NaN</td>\n",
       "      <td>NaN</td>\n",
       "      <td>NaN</td>\n",
       "      <td>NaN</td>\n",
       "    </tr>\n",
       "    <tr>\n",
       "      <th>1972-12-01</th>\n",
       "      <td>NaN</td>\n",
       "      <td>NaN</td>\n",
       "      <td>NaN</td>\n",
       "      <td>NaN</td>\n",
       "    </tr>\n",
       "  </tbody>\n",
       "</table>\n",
       "</div>"
      ],
      "text/plain": [
       "           Sales first_difference forecast seasonal_forecast\n",
       "1972-10-01   NaN              NaN      NaN               NaN\n",
       "1972-11-01   NaN              NaN      NaN               NaN\n",
       "1972-12-01   NaN              NaN      NaN               NaN"
      ]
     },
     "execution_count": 56,
     "metadata": {},
     "output_type": "execute_result"
    }
   ],
   "source": [
    "new_df"
   ]
  },
  {
   "cell_type": "code",
   "execution_count": 58,
   "id": "ba18b87a",
   "metadata": {},
   "outputs": [],
   "source": [
    "new_df = pd.concat([df,new_df])"
   ]
  },
  {
   "cell_type": "code",
   "execution_count": 59,
   "id": "9987c1a4",
   "metadata": {},
   "outputs": [
    {
     "data": {
      "text/html": [
       "<div>\n",
       "<style scoped>\n",
       "    .dataframe tbody tr th:only-of-type {\n",
       "        vertical-align: middle;\n",
       "    }\n",
       "\n",
       "    .dataframe tbody tr th {\n",
       "        vertical-align: top;\n",
       "    }\n",
       "\n",
       "    .dataframe thead th {\n",
       "        text-align: right;\n",
       "    }\n",
       "</style>\n",
       "<table border=\"1\" class=\"dataframe\">\n",
       "  <thead>\n",
       "    <tr style=\"text-align: right;\">\n",
       "      <th></th>\n",
       "      <th>Sales</th>\n",
       "      <th>first_difference</th>\n",
       "      <th>forecast</th>\n",
       "      <th>seasonal_forecast</th>\n",
       "    </tr>\n",
       "  </thead>\n",
       "  <tbody>\n",
       "    <tr>\n",
       "      <th>1972-08-01</th>\n",
       "      <td>1413</td>\n",
       "      <td>2885.0</td>\n",
       "      <td>1911.734422</td>\n",
       "      <td>1911.734422</td>\n",
       "    </tr>\n",
       "    <tr>\n",
       "      <th>1972-09-01</th>\n",
       "      <td>5877</td>\n",
       "      <td>-4464.0</td>\n",
       "      <td>6037.406421</td>\n",
       "      <td>6037.406421</td>\n",
       "    </tr>\n",
       "    <tr>\n",
       "      <th>1972-10-01</th>\n",
       "      <td>NaN</td>\n",
       "      <td>NaN</td>\n",
       "      <td>NaN</td>\n",
       "      <td>NaN</td>\n",
       "    </tr>\n",
       "    <tr>\n",
       "      <th>1972-11-01</th>\n",
       "      <td>NaN</td>\n",
       "      <td>NaN</td>\n",
       "      <td>NaN</td>\n",
       "      <td>NaN</td>\n",
       "    </tr>\n",
       "    <tr>\n",
       "      <th>1972-12-01</th>\n",
       "      <td>NaN</td>\n",
       "      <td>NaN</td>\n",
       "      <td>NaN</td>\n",
       "      <td>NaN</td>\n",
       "    </tr>\n",
       "  </tbody>\n",
       "</table>\n",
       "</div>"
      ],
      "text/plain": [
       "           Sales first_difference     forecast seasonal_forecast\n",
       "1972-08-01  1413           2885.0  1911.734422       1911.734422\n",
       "1972-09-01  5877          -4464.0  6037.406421       6037.406421\n",
       "1972-10-01   NaN              NaN          NaN               NaN\n",
       "1972-11-01   NaN              NaN          NaN               NaN\n",
       "1972-12-01   NaN              NaN          NaN               NaN"
      ]
     },
     "execution_count": 59,
     "metadata": {},
     "output_type": "execute_result"
    }
   ],
   "source": [
    "new_df.tail()"
   ]
  },
  {
   "cell_type": "code",
   "execution_count": 60,
   "id": "93c5b7aa",
   "metadata": {},
   "outputs": [],
   "source": [
    "new_df[\"seasonal_forecast\"] = sarima.predict(start=95,end=120,dynamic=True)"
   ]
  },
  {
   "cell_type": "code",
   "execution_count": 61,
   "id": "1b56c0cb",
   "metadata": {},
   "outputs": [
    {
     "data": {
      "text/html": [
       "<div>\n",
       "<style scoped>\n",
       "    .dataframe tbody tr th:only-of-type {\n",
       "        vertical-align: middle;\n",
       "    }\n",
       "\n",
       "    .dataframe tbody tr th {\n",
       "        vertical-align: top;\n",
       "    }\n",
       "\n",
       "    .dataframe thead th {\n",
       "        text-align: right;\n",
       "    }\n",
       "</style>\n",
       "<table border=\"1\" class=\"dataframe\">\n",
       "  <thead>\n",
       "    <tr style=\"text-align: right;\">\n",
       "      <th></th>\n",
       "      <th>Sales</th>\n",
       "      <th>first_difference</th>\n",
       "      <th>forecast</th>\n",
       "      <th>seasonal_forecast</th>\n",
       "    </tr>\n",
       "  </thead>\n",
       "  <tbody>\n",
       "    <tr>\n",
       "      <th>1972-08-01</th>\n",
       "      <td>1413</td>\n",
       "      <td>2885.0</td>\n",
       "      <td>1911.734422</td>\n",
       "      <td>1911.734422</td>\n",
       "    </tr>\n",
       "    <tr>\n",
       "      <th>1972-09-01</th>\n",
       "      <td>5877</td>\n",
       "      <td>-4464.0</td>\n",
       "      <td>6037.406421</td>\n",
       "      <td>6037.406421</td>\n",
       "    </tr>\n",
       "    <tr>\n",
       "      <th>1972-10-01</th>\n",
       "      <td>NaN</td>\n",
       "      <td>NaN</td>\n",
       "      <td>NaN</td>\n",
       "      <td>7088.092727</td>\n",
       "    </tr>\n",
       "    <tr>\n",
       "      <th>1972-11-01</th>\n",
       "      <td>NaN</td>\n",
       "      <td>NaN</td>\n",
       "      <td>NaN</td>\n",
       "      <td>10033.784330</td>\n",
       "    </tr>\n",
       "    <tr>\n",
       "      <th>1972-12-01</th>\n",
       "      <td>NaN</td>\n",
       "      <td>NaN</td>\n",
       "      <td>NaN</td>\n",
       "      <td>13571.658138</td>\n",
       "    </tr>\n",
       "  </tbody>\n",
       "</table>\n",
       "</div>"
      ],
      "text/plain": [
       "           Sales first_difference     forecast  seasonal_forecast\n",
       "1972-08-01  1413           2885.0  1911.734422        1911.734422\n",
       "1972-09-01  5877          -4464.0  6037.406421        6037.406421\n",
       "1972-10-01   NaN              NaN          NaN        7088.092727\n",
       "1972-11-01   NaN              NaN          NaN       10033.784330\n",
       "1972-12-01   NaN              NaN          NaN       13571.658138"
      ]
     },
     "execution_count": 61,
     "metadata": {},
     "output_type": "execute_result"
    }
   ],
   "source": [
    "new_df.tail()"
   ]
  },
  {
   "cell_type": "code",
   "execution_count": null,
   "id": "2ba8aa6b",
   "metadata": {},
   "outputs": [],
   "source": []
  }
 ],
 "metadata": {
  "kernelspec": {
   "display_name": "Python 3 (ipykernel)",
   "language": "python",
   "name": "python3"
  },
  "language_info": {
   "codemirror_mode": {
    "name": "ipython",
    "version": 3
   },
   "file_extension": ".py",
   "mimetype": "text/x-python",
   "name": "python",
   "nbconvert_exporter": "python",
   "pygments_lexer": "ipython3",
   "version": "3.9.12"
  }
 },
 "nbformat": 4,
 "nbformat_minor": 5
}
